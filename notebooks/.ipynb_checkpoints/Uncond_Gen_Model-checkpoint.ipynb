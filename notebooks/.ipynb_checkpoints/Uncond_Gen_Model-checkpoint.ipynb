{
 "cells": [
  {
   "cell_type": "markdown",
   "metadata": {},
   "source": [
    "# Task 1: Unconditional generation"
   ]
  },
  {
   "cell_type": "code",
   "execution_count": 247,
   "metadata": {},
   "outputs": [],
   "source": [
    "%matplotlib inline\n",
    "import matplotlib\n",
    "import sys \n",
    "\n",
    "sys.path.insert(0,'..')\n",
    "from utils import plot_stroke"
   ]
  },
  {
   "cell_type": "code",
   "execution_count": 248,
   "metadata": {},
   "outputs": [],
   "source": [
    "import numpy as np\n",
    "strokes = np.load('../data/strokes-py3.npy', allow_pickle=True)"
   ]
  },
  {
   "cell_type": "code",
   "execution_count": 276,
   "metadata": {},
   "outputs": [
    {
     "data": {
      "text/plain": [
       "300"
      ]
     },
     "execution_count": 276,
     "metadata": {},
     "output_type": "execute_result"
    }
   ],
   "source": [
    "# Due to time constraint, will not train for the whole dataset\n",
    "import math\n",
    "training = strokes[:math.floor(len(strokes)*0.05)]\n",
    "len(training)"
   ]
  },
  {
   "cell_type": "code",
   "execution_count": 279,
   "metadata": {},
   "outputs": [],
   "source": [
    "# Normalize training co-ordinate offsets\n",
    "x_mean, y_mean, count = 0, 0, 0\n",
    "\n",
    "for stroke in training:\n",
    "    for i in stroke:\n",
    "        x_mean += i[1]\n",
    "        y_mean += i[2]\n",
    "        count += 1\n",
    "x_mean /= count\n",
    "y_mean /= count"
   ]
  },
  {
   "cell_type": "code",
   "execution_count": 280,
   "metadata": {},
   "outputs": [],
   "source": [
    "std_x, std_y = 0, 0\n",
    "for stroke in training:\n",
    "    for i in stroke:\n",
    "        std_x += (i[1]-x_mean)**2\n",
    "        std_y += (i[2]-y_mean)**2\n",
    "std_x /= count\n",
    "std_y /= count\n",
    "std_x = std_x**(0.5)\n",
    "std_y = std_y**(0.5)"
   ]
  },
  {
   "cell_type": "code",
   "execution_count": 281,
   "metadata": {},
   "outputs": [],
   "source": [
    "for stroke in training:\n",
    "    for i in stroke:\n",
    "        i[1] = (i[1]-x_mean)/std_x\n",
    "        i[2] = (i[2]-y_mean)/std_y"
   ]
  },
  {
   "cell_type": "code",
   "execution_count": 275,
   "metadata": {},
   "outputs": [
    {
     "name": "stdout",
     "output_type": "stream",
     "text": [
      "Shape of X: (75636, 400, 3)\n",
      "Shape of y: (75636, 3)\n"
     ]
    }
   ],
   "source": [
    "# Prepare training data as X and y.\n",
    "# Each sample of X is of shape (400,3) and each sample of y is of shape (1,3)\n",
    "# i.e. use the first 400 strokes to predict the last one\n",
    "X = []\n",
    "y = []\n",
    "for sample in training:\n",
    "    for i in range(len(sample)-400-2):\n",
    "        X.append(sample[i:i+400])\n",
    "        y.append(sample[i+400+1])\n",
    "X = np.array(X)\n",
    "y = np.array(y)\n",
    "\n",
    "print(\"Shape of X:\", X.shape)\n",
    "print(\"Shape of y:\", y.shape)"
   ]
  },
  {
   "cell_type": "code",
   "execution_count": 473,
   "metadata": {},
   "outputs": [],
   "source": [
    "import tensorflow as tf\n",
    "from tensorflow import keras\n",
    "from tensorflow.keras.layers import LSTM, Input\n",
    "from tensorflow.keras.models import Model\n",
    "import mdn"
   ]
  },
  {
   "cell_type": "code",
   "execution_count": 284,
   "metadata": {},
   "outputs": [
    {
     "name": "stdout",
     "output_type": "stream",
     "text": [
      "Train on 60508 samples, validate on 15128 samples\n",
      "Epoch 1/10\n",
      "60508/60508 [==============================] - 1332s 22ms/sample - loss: 2.7304 - val_loss: 3.0756\n",
      "Epoch 2/10\n",
      "60508/60508 [==============================] - 1368s 23ms/sample - loss: 2.5644 - val_loss: 4.0500\n",
      "Epoch 3/10\n",
      "60508/60508 [==============================] - 1397s 23ms/sample - loss: 1.4783 - val_loss: 17.2502\n",
      "Epoch 4/10\n",
      "60508/60508 [==============================] - 1367s 23ms/sample - loss: 1.3815 - val_loss: 4.4714\n",
      "Epoch 5/10\n",
      "60508/60508 [==============================] - 1451s 24ms/sample - loss: 0.3586 - val_loss: 1.4932\n",
      "Epoch 6/10\n",
      "60508/60508 [==============================] - 1395s 23ms/sample - loss: -0.6228 - val_loss: -2.9106\n",
      "Epoch 7/10\n",
      "60508/60508 [==============================] - 1351s 22ms/sample - loss: 0.8578 - val_loss: -0.0016\n",
      "Epoch 8/10\n",
      "60508/60508 [==============================] - 1395s 23ms/sample - loss: -0.4225 - val_loss: -0.2358\n",
      "Epoch 9/10\n",
      "60508/60508 [==============================] - 1341s 22ms/sample - loss: -1.0871 - val_loss: -1.7987\n",
      "Epoch 10/10\n",
      "60508/60508 [==============================] - 1285s 21ms/sample - loss: -0.5544 - val_loss: -1.6670\n"
     ]
    }
   ],
   "source": [
    "keras.backend.clear_session()\n",
    "\n",
    "inputs = Input(shape=(400,3))\n",
    "x = LSTM(256, return_sequences=True,batch_input_shape = (None,400,3))(inputs)\n",
    "x = LSTM(256)(x)\n",
    "outputs = mdn.MDN(3, 10)(x)\n",
    "model = Model(inputs=inputs,outputs=outputs)\n",
    "model.compile(loss=mdn.get_mixture_loss_func(3,10), optimizer=keras.optimizers.Adam())\n",
    "\n",
    "# Fit the model\n",
    "history = model.fit(X, y, batch_size=128, epochs=10, validation_split = 0.2)"
   ]
  },
  {
   "cell_type": "code",
   "execution_count": 285,
   "metadata": {},
   "outputs": [],
   "source": [
    "model.save_weights('model_weights.h5')"
   ]
  },
  {
   "cell_type": "code",
   "execution_count": 286,
   "metadata": {},
   "outputs": [
    {
     "name": "stdout",
     "output_type": "stream",
     "text": [
      "Model: \"model_1\"\n",
      "_________________________________________________________________\n",
      "Layer (type)                 Output Shape              Param #   \n",
      "=================================================================\n",
      "input_2 (InputLayer)         [(None, 1, 3)]            0         \n",
      "_________________________________________________________________\n",
      "lstm_2 (LSTM)                (None, 1, 256)            266240    \n",
      "_________________________________________________________________\n",
      "lstm_3 (LSTM)                (None, 256)               525312    \n",
      "_________________________________________________________________\n",
      "mdn_1 (MDN)                  (None, 70)                17990     \n",
      "=================================================================\n",
      "Total params: 809,542\n",
      "Trainable params: 809,542\n",
      "Non-trainable params: 0\n",
      "_________________________________________________________________\n"
     ]
    }
   ],
   "source": [
    "# Set up the generator\n",
    "inputs = Input(shape=(1,3))\n",
    "x = LSTM(256, return_sequences=True,batch_input_shape = (1,1,3))(inputs)\n",
    "x = LSTM(256)(x)\n",
    "outputs = mdn.MDN(3, 10)(x)\n",
    "generator = Model(inputs=inputs,outputs=outputs)\n",
    "\n",
    "generator.compile(loss=mdn.get_mixture_loss_func(3,10), optimizer=keras.optimizers.Adam())\n",
    "generator.summary()\n",
    "\n",
    "generator.load_weights('model_weights.h5')"
   ]
  },
  {
   "cell_type": "code",
   "execution_count": 343,
   "metadata": {},
   "outputs": [],
   "source": [
    "predictions = []\n",
    "stroke_pt = np.asarray([1,0,0], dtype=np.float32) # start point\n",
    "predictions.append(stroke_pt)\n",
    "\n",
    "for i in range(400):\n",
    "    stroke_pt = mdn.sample_from_output(generator.predict(stroke_pt.reshape(1,1,3))[0], 3, 10)\n",
    "    predictions.append(stroke_pt.reshape((3,)))\n",
    "\n",
    "predictions = np.array(predictions, dtype=np.float32)\n",
    "for i in range(len(predictions)):\n",
    "    predictions[i][0] = (predictions[i][0] > 0.5)*1\n",
    "    predictions[i][1] = predictions[i][1] * std_x + x_mean\n",
    "    predictions[i][2] = predictions[i][2] * std_y + y_mean"
   ]
  },
  {
   "cell_type": "code",
   "execution_count": 344,
   "metadata": {},
   "outputs": [
    {
     "data": {
      "text/plain": [
       "array([[ 1.0000000e+00,  1.3753500e-10,  1.2982443e-10],\n",
       "       [ 1.0000000e+00,  5.1755529e-02,  4.4019455e-01],\n",
       "       [ 0.0000000e+00, -3.3939913e-01,  2.0617759e+00],\n",
       "       ...,\n",
       "       [ 0.0000000e+00, -4.8726149e-02, -4.2443607e-02],\n",
       "       [ 0.0000000e+00,  2.8220761e+00,  5.1552159e-01],\n",
       "       [ 1.0000000e+00, -7.8888372e-02, -4.2698953e-01]], dtype=float32)"
      ]
     },
     "execution_count": 344,
     "metadata": {},
     "output_type": "execute_result"
    }
   ],
   "source": [
    "predictions"
   ]
  },
  {
   "cell_type": "code",
   "execution_count": 345,
   "metadata": {},
   "outputs": [
    {
     "data": {
      "image/png": "[encoded data removed]",
      "text/plain": [
       "<Figure size 256.595x360 with 1 Axes>"
      ]
     },
     "metadata": {
      "needs_background": "light"
     },
     "output_type": "display_data"
    }
   ],
   "source": [
    "plot_stroke(predictions)"
   ]
  }
 ],
 "metadata": {
  "anaconda-cloud": {},
  "kernelspec": {
   "display_name": "Python 3",
   "language": "python",
   "name": "python3"
  },
  "language_info": {
   "codemirror_mode": {
    "name": "ipython",
    "version": 3
   },
   "file_extension": ".py",
   "mimetype": "text/x-python",
   "name": "python",
   "nbconvert_exporter": "python",
   "pygments_lexer": "ipython3",
   "version": "3.7.4"
  }
 },
 "nbformat": 4,
 "nbformat_minor": 2
}
